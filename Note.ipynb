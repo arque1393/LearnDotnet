{
 "cells": [
  {
   "cell_type": "markdown",
   "metadata": {},
   "source": [
    "## Dotnet CLI"
   ]
  },
  {
   "cell_type": "markdown",
   "metadata": {},
   "source": [
    "#### Managing Packages using Dotnet CLI "
   ]
  },
  {
   "cell_type": "markdown",
   "metadata": {},
   "source": [
    "- Installing dependency in local project\n",
    "    ```bash\n",
    "    dotnet add package <package_name>\n",
    "    ```\n",
    "- List all the **Top level package** in local project \n",
    "    ```bash\n",
    "    dotnet list package --version <version_value>\n",
    "    ```\n",
    "- List all Top Level and **Transetive Packeges**\n",
    "    ```bash\n",
    "    dotnet list package --include-transitive\n",
    "    ```\n",
    " \n",
    "- Explicitly installing all the Packeges \n",
    "    ```bash\n",
    "    dotnet restore\n",
    "    ```\n",
    "\n",
    "- Removing Dependency \n",
    "    ```bash \n",
    "    dotnet remove package <package_name>\n",
    "    ```\n",
    "\n",
    "The installed packages are listed in the dependencies section of your .csproj file. If you want to see what packages are in the folder, you can enter dotnet list package."
   ]
  },
  {
   "cell_type": "markdown",
   "metadata": {},
   "source": [
    "- outdated Packages\n",
    "    ```bash\n",
    "    dotnet list package --outdated \n",
    "    ```"
   ]
  },
  {
   "cell_type": "markdown",
   "metadata": {},
   "source": [
    "#### Creating App Template "
   ]
  },
  {
   "cell_type": "markdown",
   "metadata": {},
   "source": [
    "- Creating New Application \n",
    "    ```bash \n",
    "    dotnet new <template_name> -f net8.0 \n",
    "    # -f flag is to forcefully specifing the dotnet verion \n",
    "    ``` \n",
    "     "
   ]
  },
  {
   "cell_type": "code",
   "execution_count": 2,
   "metadata": {
    "dotnet_interactive": {
     "language": "csharp"
    },
    "polyglot_notebook": {
     "kernelName": "csharp"
    },
    "vscode": {
     "languageId": "csharp"
    }
   },
   "outputs": [
    {
     "ename": "Error",
     "evalue": "(1,11): error CS1002: ; expected",
     "output_type": "error",
     "traceback": [
      "(1,11): error CS1002: ; expected"
     ]
    }
   ],
   "source": [
    "!dotnet --list-sdks"
   ]
  },
  {
   "cell_type": "code",
   "execution_count": 1,
   "metadata": {
    "dotnet_interactive": {
     "language": "csharp"
    },
    "polyglot_notebook": {
     "kernelName": "csharp"
    },
    "vscode": {
     "languageId": "csharp"
    }
   },
   "outputs": [
    {
     "name": "stdout",
     "output_type": "stream",
     "text": [
      "Hii\n"
     ]
    }
   ],
   "source": [
    "Console.WriteLine(\"Hii\")"
   ]
  },
  {
   "cell_type": "code",
   "execution_count": null,
   "metadata": {
    "dotnet_interactive": {
     "language": "csharp"
    },
    "polyglot_notebook": {
     "kernelName": "csharp"
    },
    "vscode": {
     "languageId": "csharp"
    }
   },
   "outputs": [],
   "source": [
    "class MyBase {\n",
    "\n",
    "    int a;\n",
    "    int b; \n",
    "    public MyBase(int a , int b){\n",
    "        this.a = a;\n",
    "        this.b = b;\n",
    "    }\n",
    "    public void print(){\n",
    "        Console.WriteLine($\"a = {this.a} \\nb = {this.b}\");\n",
    "    }\n",
    "}\n",
    "MyBase b = new MyBase(3,4);\n",
    "b.print();\n"
   ]
  },
  {
   "cell_type": "code",
   "execution_count": null,
   "metadata": {
    "dotnet_interactive": {
     "language": "csharp"
    },
    "polyglot_notebook": {
     "kernelName": "csharp"
    },
    "vscode": {
     "languageId": "csharp"
    }
   },
   "outputs": [],
   "source": []
  },
  {
   "cell_type": "markdown",
   "metadata": {},
   "source": [
    "### System Files handle using System.IO"
   ]
  },
  {
   "cell_type": "code",
   "execution_count": 21,
   "metadata": {
    "dotnet_interactive": {
     "language": "csharp"
    },
    "polyglot_notebook": {
     "kernelName": "csharp"
    },
    "vscode": {
     "languageId": "csharp"
    }
   },
   "outputs": [
    {
     "name": "stdout",
     "output_type": "stream",
     "text": [
      "tmp_stores/Main2\n",
      "tmp_stores/Main1\n",
      "tmp_stores/file_2\n",
      "tmp_stores/file_1\n",
      "tmp_stores/Main1/Sub1/aa.x\n",
      "tmp_stores/Main1/Sub1/bb.txt\n"
     ]
    }
   ],
   "source": [
    "using System.IO;\n",
    "string parse_dir = \"tmp_stores\";\n",
    "IEnumerable<string> listOfDirectories = Directory.EnumerateDirectories(parse_dir);\n",
    "IEnumerable<string> listOfFiles = Directory.EnumerateFiles(parse_dir,\n",
    "    \"*.*\", // Fiile name pattern \n",
    "    SearchOption.AllDirectories // All directory search option \n",
    " );\n",
    "\n",
    "\n",
    "foreach (string dir in listOfDirectories) {\n",
    "    Console.WriteLine(dir);\n",
    "}\n",
    "\n",
    "\n",
    "foreach (string file in listOfFiles) {\n",
    "    Console.WriteLine(file);\n",
    "}\n"
   ]
  },
  {
   "cell_type": "code",
   "execution_count": null,
   "metadata": {
    "dotnet_interactive": {
     "language": "csharp"
    },
    "polyglot_notebook": {
     "kernelName": "csharp"
    },
    "vscode": {
     "languageId": "csharp"
    }
   },
   "outputs": [],
   "source": []
  }
 ],
 "metadata": {
  "kernelspec": {
   "display_name": ".NET (C#)",
   "language": "C#",
   "name": ".net-csharp"
  },
  "language_info": {
   "file_extension": ".cs",
   "mimetype": "text/x-csharp",
   "name": "C#",
   "pygments_lexer": "csharp",
   "version": "12.0"
  },
  "polyglot_notebook": {
   "kernelInfo": {
    "defaultKernelName": "csharp",
    "items": [
     {
      "aliases": [],
      "name": "csharp"
     }
    ]
   }
  }
 },
 "nbformat": 4,
 "nbformat_minor": 2
}
